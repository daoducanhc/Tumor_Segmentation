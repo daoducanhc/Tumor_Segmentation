{
 "metadata": {
  "language_info": {
   "codemirror_mode": {
    "name": "ipython",
    "version": 3
   },
   "file_extension": ".py",
   "mimetype": "text/x-python",
   "name": "python",
   "nbconvert_exporter": "python",
   "pygments_lexer": "ipython3",
   "version": "3.8.3"
  },
  "orig_nbformat": 2,
  "kernelspec": {
   "name": "python3",
   "display_name": "Python 3.8.3 64-bit ('deep': conda)",
   "metadata": {
    "interpreter": {
     "hash": "78cf35616b8723687b1ffdae63d61b6f66532bbdc33d59717b3ab4345efe7822"
    }
   }
  }
 },
 "nbformat": 4,
 "nbformat_minor": 2,
 "cells": [
  {
   "cell_type": "code",
   "execution_count": null,
   "metadata": {},
   "outputs": [],
   "source": [
    "import os\n",
    "import torch\n",
    "import numpy as np\n",
    "import setup.dataset as dataset\n",
    "import setup.UNet as UNet\n",
    "import setup.ResUNet as ResUNet\n",
    "import setup.classifier as classifier\n",
    "import setup.plot as plot\n",
    "from torch.utils.data import SubsetRandomSampler\n",
    "\n",
    "np.random.seed(0)\n",
    "torch.manual_seed(0)\n",
    "\n",
    "DATASET_PATH = '/home/tungdao/Tung/code/ducanh/data/png_dataset'\n",
    "\n",
    "device = torch.device('cuda' if torch.cuda.is_available() else 'cpu')\n",
    "print(device)\n",
    "\n",
    "def sampler_indices(length):\n",
    "    indices = list(range(length))\n",
    "    np.random.shuffle(indices)\n",
    "    split = int(np.floor(0.1 * length))\n",
    "    test_indices = indices[:split]\n",
    "    return test_indices\n",
    "\n",
    "tumor_dataset = dataset.TumorDataset(DATASET_PATH)\n",
    "\n",
    "test_indices = sampler_indices(len(tumor_dataset))\n",
    "test_sampler = SubsetRandomSampler(test_indices)\n",
    "\n",
    "test_loader = torch.utils.data.DataLoader(tumor_dataset, batch_size=1, sampler=test_sampler)\n",
    "\n",
    "FILTER_LIST = [16,32,64,128,256]\n",
    "\n",
    "#model = UNet.DynamicUNet(FILTER_LIST).to(device)\n",
    "#path = 'outputs/UNet.pt'\n",
    "model = ResUNet.ResUNet(FILTER_LIST).to(device)\n",
    "path = 'outputs/ResUNet.pt'\n",
    "\n",
    "classifier = classifier.TumorClassifier(model, device)\n",
    "if device == 'cpu':\n",
    "    classifier.model.load_state_dict(torch.load(path, map_location='cpu'))\n",
    "else:\n",
    "    classifier.model.load_state_dict(torch.load(path))"
   ]
  },
  {
   "cell_type": "code",
   "execution_count": null,
   "metadata": {},
   "outputs": [],
   "source": [
    "i=0"
   ]
  },
  {
   "cell_type": "code",
   "execution_count": null,
   "metadata": {},
   "outputs": [],
   "source": [
    "image_index = test_indices[i]\n",
    "sample = tumor_dataset[image_index]\n",
    "image, mask, output, d_score = classifier.predict(sample,0.65)\n",
    "title = f'Name: {image_index}.png   Dice Score: {d_score:.5f}'\n",
    "plot.result(image,mask,output,title)\n",
    "i += 1\n",
    "if i >= len(test_indices):\n",
    "    i = 0 "
   ]
  }
 ]
}